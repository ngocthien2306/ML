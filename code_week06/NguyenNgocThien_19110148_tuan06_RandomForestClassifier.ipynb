{
 "cells": [
  {
   "cell_type": "code",
   "execution_count": 2,
   "metadata": {},
   "outputs": [],
   "source": [
    "import matplotlib as mpl\n",
    "import matplotlib.pyplot as plt\n",
    "import numpy as np\n",
    "import joblib # Note: require sklearn v0.22+ (to update sklearn: pip install -U scikit-learn ). For old version sklearn: from sklearn.externals import joblib \n",
    "from sklearn.linear_model import SGDClassifier  \n",
    "from sklearn.tree import DecisionTreeClassifier\n",
    "from sklearn.ensemble import RandomForestClassifier\n",
    "from sklearn.metrics import confusion_matrix  \n",
    "from sklearn.metrics import f1_score\n",
    "from sklearn.model_selection import cross_val_score\n",
    "from sklearn.model_selection import cross_val_predict \n",
    "import random"
   ]
  },
  {
   "cell_type": "code",
   "execution_count": 3,
   "metadata": {},
   "outputs": [],
   "source": [
    "from tensorflow import keras\n",
    "(X_train, y_train), (X_test, y_test) = keras.datasets.fashion_mnist.load_data()\n",
    "\n",
    "# 1.2. Reshape to 2D array: each row has 784 (28X28 pixel) features\n",
    "X_train = X_train.reshape(60000,784)\n",
    "X_test = X_test.reshape(10000,784)"
   ]
  },
  {
   "cell_type": "code",
   "execution_count": 4,
   "metadata": {},
   "outputs": [],
   "source": [
    "y_train_2 = (y_train == 2) \n",
    "y_test_2 = (y_test == 2)"
   ]
  },
  {
   "cell_type": "code",
   "execution_count": 5,
   "metadata": {},
   "outputs": [],
   "source": [
    "randomForest = False\n",
    "rfc = RandomForestClassifier(n_estimators=70, oob_score=True, random_state=101)\n",
    "if randomForest:\n",
    "  rfc.fit(X_train, y_train)\n",
    "  joblib.dump(rfc,'saved_var/rfc_binary')\n",
    "else:\n",
    "  rfc = joblib.load('saved_var/rfc_binary')\n"
   ]
  },
  {
   "cell_type": "code",
   "execution_count": 19,
   "metadata": {},
   "outputs": [
    {
     "name": "stdout",
     "output_type": "stream",
     "text": [
      "[9]\n",
      "9\n",
      "[0 1 2 3 4 5 6 7 8 9]\n",
      "[[0.         0.         0.         0.         0.         0.\n",
      "  0.         0.02857143 0.         0.97142857]]\n"
     ]
    }
   ],
   "source": [
    "# Try prediction\n",
    "sample_id = 15\n",
    "print(rfc.predict([X_train[sample_id]]))\n",
    "print(y_train[sample_id])\n",
    "# To see scores from classifers\n",
    "print(rfc.classes_)\n",
    "sample_scores = rfc.predict_proba([X_train[sample_id]]) \n",
    "print(sample_scores)\n",
    "class_with_max_score = np.argmax(sample_scores)"
   ]
  },
  {
   "cell_type": "code",
   "execution_count": 21,
   "metadata": {},
   "outputs": [
    {
     "name": "stdout",
     "output_type": "stream",
     "text": [
      "1000\n"
     ]
    }
   ],
   "source": [
    "count = 0\n",
    "for i in range(1000):\n",
    "    sample_id = random.randint(1, 60000)\n",
    "    predict = rfc.predict([X_train[sample_id]])\n",
    "    label = y_train[sample_id]\n",
    "    if predict == label:\n",
    "        count += 1\n",
    "print(count)\n",
    "  "
   ]
  },
  {
   "cell_type": "code",
   "execution_count": 25,
   "metadata": {},
   "outputs": [
    {
     "name": "stdout",
     "output_type": "stream",
     "text": [
      "10\n",
      "[[0.         0.         0.         0.         0.         0.\n",
      "  0.         0.01428571 0.         0.98571429]]\n"
     ]
    }
   ],
   "source": [
    "from sklearn.multiclass import OneVsRestClassifier\n",
    "new_run = False\n",
    "sample_id = 15\n",
    "ova_clf = OneVsRestClassifier(RandomForestClassifier(random_state=101, n_estimators=70))\n",
    "if new_run == True:\n",
    "    ova_clf.fit(X_train, y_train)\n",
    "    joblib.dump(ova_clf,'saved_var/ova_random_clf')\n",
    "else:\n",
    "    ova_clf = joblib.load('saved_var/ova_random_clf')\n",
    "print(len(ova_clf.estimators_))\n",
    "sample_scores = ova_clf.predict_proba([X_train[sample_id]]) \n",
    "print(sample_scores)"
   ]
  },
  {
   "cell_type": "code",
   "execution_count": 29,
   "metadata": {},
   "outputs": [
    {
     "name": "stdout",
     "output_type": "stream",
     "text": [
      "45\n",
      "[[ 3.71370968 -0.29151732  1.7287234   0.74097665  2.76767677  7.25476992\n",
      "   5.06818182  8.28379335  6.27764519  9.3       ]]\n"
     ]
    }
   ],
   "source": [
    "from sklearn.multiclass import OneVsOneClassifier\n",
    "new_run = False\n",
    "ovo_clf = OneVsOneClassifier(RandomForestClassifier(random_state=101, n_estimators=70))\n",
    "if new_run == True:\n",
    "    ovo_clf.fit(X_train, y_train)\n",
    "    joblib.dump(ovo_clf,'saved_var/ovo_random_clf')\n",
    "else:\n",
    "    ovo_clf = joblib.load('saved_var/ovo_random_clf')\n",
    "print(len(ovo_clf.estimators_))\n",
    "sample_scores = ovo_clf.decision_function([X_train[sample_id]]) \n",
    "print(sample_scores)"
   ]
  },
  {
   "cell_type": "code",
   "execution_count": 30,
   "metadata": {},
   "outputs": [
    {
     "name": "stdout",
     "output_type": "stream",
     "text": [
      "[0.87455 0.8801  0.87755]\n"
     ]
    }
   ],
   "source": [
    "# 6.2. RandomForestClassifier  \n",
    "# Warning: takes time for new run! \n",
    "new_run = False\n",
    "if new_run == True:\n",
    "    forest_acc = cross_val_score(rfc, X_train, y_train, cv=3, scoring=\"accuracy\")\n",
    "    joblib.dump(forest_acc,'saved_var/forest_acc_multi')\n",
    "else:\n",
    "    forest_acc = joblib.load('saved_var/forest_acc_multi')\n",
    "print(forest_acc)"
   ]
  },
  {
   "cell_type": "code",
   "execution_count": 31,
   "metadata": {},
   "outputs": [],
   "source": [
    "from sklearn.preprocessing import StandardScaler\n",
    "scaler = StandardScaler()\n",
    "X_train_scaled = scaler.fit_transform(X_train.astype(np.float64))"
   ]
  },
  {
   "cell_type": "code",
   "execution_count": 32,
   "metadata": {},
   "outputs": [
    {
     "name": "stdout",
     "output_type": "stream",
     "text": [
      "[0.8746  0.88005 0.8778 ]\n"
     ]
    }
   ],
   "source": [
    "new_run = False\n",
    "if new_run == True:\n",
    "    forest_acc_after_scaling = cross_val_score(rfc, X_train_scaled, y_train, cv=3, scoring=\"accuracy\", n_jobs=4)\n",
    "    joblib.dump(forest_acc_after_scaling,'saved_var/forest_acc_after_scaling')\n",
    "else:\n",
    "    forest_acc_after_scaling = joblib.load('saved_var/forest_acc_after_scaling')\n",
    "print(forest_acc_after_scaling)\n"
   ]
  },
  {
   "cell_type": "code",
   "execution_count": 34,
   "metadata": {},
   "outputs": [
    {
     "data": {
      "image/png": "[encoded data removed]",
      "text/plain": [
       "<Figure size 288x288 with 2 Axes>"
      ]
     },
     "metadata": {
      "needs_background": "light"
     },
     "output_type": "display_data"
    }
   ],
   "source": [
    "new_run = True\n",
    "if new_run == True:\n",
    "    y_train_pred = cross_val_predict(rfc, X_train_scaled, y_train, cv=3)\n",
    "    joblib.dump(y_train_pred,'saved_var/y_train_pred_random')\n",
    "else:\n",
    "    y_train_pred = joblib.load('saved_var/y_train_pred_random')\n",
    "conf_mat = confusion_matrix(y_train, y_train_pred) # row: actual class, col: prediction\n",
    "let_plot = True;\n",
    "if let_plot:\n",
    "    plt.matshow(conf_mat, cmap=plt.cm.seismic)\n",
    "    plt.xlabel(\"Prediction\")\n",
    "    plt.ylabel(\"Actual class\")\n",
    "    plt.colorbar()\n",
    "    plt.savefig(\"figs/confusionRandom_matrix_plot\")\n",
    "    plt.show()"
   ]
  },
  {
   "cell_type": "code",
   "execution_count": 35,
   "metadata": {},
   "outputs": [
    {
     "data": {
      "text/plain": [
       "array([[5148,    2,   88,  198,   20,    4,  490,    0,   50,    0],\n",
       "       [  10, 5783,   23,  135,    6,    1,   40,    0,    2,    0],\n",
       "       [  34,    2, 4865,   62,  666,    1,  332,    0,   38,    0],\n",
       "       [ 133,   21,   50, 5483,  174,    0,  126,    0,   13,    0],\n",
       "       [  12,    7,  477,  228, 4969,    1,  285,    0,   20,    1],\n",
       "       [   0,    0,    1,    1,    0, 5727,    1,  178,   27,   65],\n",
       "       [ 958,    3,  703,  149,  543,    4, 3544,    0,   96,    0],\n",
       "       [   0,    0,    0,    0,    0,  105,    0, 5610,   11,  274],\n",
       "       [   9,    2,   22,   20,   29,   19,   71,   11, 5813,    4],\n",
       "       [   0,    0,    0,    1,    1,   70,    5,  208,    8, 5707]],\n",
       "      dtype=int64)"
      ]
     },
     "execution_count": 35,
     "metadata": {},
     "output_type": "execute_result"
    }
   ],
   "source": [
    "conf_mat"
   ]
  },
  {
   "cell_type": "code",
   "execution_count": 36,
   "metadata": {},
   "outputs": [
    {
     "name": "stderr",
     "output_type": "stream",
     "text": [
      "C:\\Users\\hp\\AppData\\Local\\Temp\\ipykernel_36212\\1710595249.py:10: MatplotlibDeprecationWarning: savefig() got unexpected keyword argument \"tight_layout\" which is no longer supported as of 3.3 and will become an error in 3.6\n",
      "  plt.savefig(\"figs/confusionRandom_matrix_errors_plot\", tight_layout=False)\n"
     ]
    },
    {
     "data": {
      "image/png": "[encoded data removed]",
      "text/plain": [
       "<Figure size 288x288 with 2 Axes>"
      ]
     },
     "metadata": {
      "needs_background": "light"
     },
     "output_type": "display_data"
    }
   ],
   "source": [
    "row_sums = conf_mat.sum(axis=1, keepdims=True)\n",
    "norm_conf_mat = conf_mat / row_sums\n",
    "# Replace rates on diagonal (correct classifitions) by zeros    \n",
    "if let_plot:\n",
    "    np.fill_diagonal(norm_conf_mat, 0)\n",
    "    plt.matshow(norm_conf_mat,cmap=plt.cm.seismic)\n",
    "    plt.xlabel(\"Prediction\")\n",
    "    plt.ylabel(\"Actual class\")\n",
    "    plt.colorbar()\n",
    "    plt.savefig(\"figs/confusionRandom_matrix_errors_plot\", tight_layout=False)\n",
    "    plt.show()"
   ]
  },
  {
   "cell_type": "code",
   "execution_count": null,
   "metadata": {},
   "outputs": [],
   "source": [
    "def plot_digits(instances, images_per_row=10, **options):\n",
    "    size = 28\n",
    "    images_per_row = min(len(instances), images_per_row)\n",
    "    images = [instance.reshape(size,size) for instance in instances]\n",
    "    n_rows = (len(instances) - 1) // images_per_row + 1\n",
    "    row_images = []\n",
    "    n_empty = n_rows * images_per_row - len(instances)\n",
    "    images.append(np.zeros((size, size * n_empty)))\n",
    "    for row in range(n_rows):\n",
    "        rimages = images[row * images_per_row : (row + 1) * images_per_row]\n",
    "        row_images.append(np.concatenate(rimages, axis=1))\n",
    "    image = np.concatenate(row_images, axis=0)\n",
    "    plt.imshow(image, cmap = mpl.cm.binary, **options)\n",
    "    plt.axis(\"off\")"
   ]
  }
 ],
 "metadata": {
  "interpreter": {
   "hash": "2be5faf79681da6f2a61fdfdd5405d65d042280f7fba6178067603e3a2925119"
  },
  "kernelspec": {
   "display_name": "Python 3.10.1 64-bit",
   "language": "python",
   "name": "python3"
  },
  "language_info": {
   "codemirror_mode": {
    "name": "ipython",
    "version": 3
   },
   "file_extension": ".py",
   "mimetype": "text/x-python",
   "name": "python",
   "nbconvert_exporter": "python",
   "pygments_lexer": "ipython3",
   "version": "3.10.1"
  },
  "orig_nbformat": 4
 },
 "nbformat": 4,
 "nbformat_minor": 2
}
