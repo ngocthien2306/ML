{
 "cells": [
  {
   "cell_type": "code",
   "execution_count": 2,
   "metadata": {},
   "outputs": [],
   "source": [
    "import matplotlib as mpl\n",
    "import matplotlib.pyplot as plt\n",
    "import numpy as np\n",
    "import joblib # Note: require sklearn v0.22+ (to update sklearn: pip install -U scikit-learn ). For old version sklearn: from sklearn.externals import joblib \n",
    "from sklearn.linear_model import SGDClassifier  \n",
    "from sklearn.tree import DecisionTreeClassifier\n",
    "from sklearn.ensemble import RandomForestClassifier\n",
    "from sklearn.metrics import confusion_matrix  \n",
    "from sklearn.metrics import f1_score\n",
    "from sklearn.model_selection import cross_val_score\n",
    "from sklearn.model_selection import cross_val_predict \n",
    "import random"
   ]
  },
  {
   "cell_type": "code",
   "execution_count": 5,
   "metadata": {},
   "outputs": [],
   "source": [
    "from tensorflow import keras\n",
    "(X_train, y_train), (X_test, y_test) = keras.datasets.fashion_mnist.load_data()\n",
    "\n",
    "# 1.2. Reshape to 2D array: each row has 784 (28X28 pixel) features\n",
    "X_train = X_train.reshape(60000,784)\n",
    "X_test = X_test.reshape(10000,784)"
   ]
  },
  {
   "cell_type": "code",
   "execution_count": 6,
   "metadata": {},
   "outputs": [],
   "source": [
    "y_train_2 = (y_train == 2) \n",
    "y_test_2 = (y_test == 2)"
   ]
  },
  {
   "cell_type": "code",
   "execution_count": 7,
   "metadata": {},
   "outputs": [],
   "source": [
    "new_run = False\n",
    "if new_run:\n",
    "    from sklearn.linear_model import SGDClassifier       \n",
    "    sgd_clf = SGDClassifier(random_state=42, max_iter=100) # set random_state to reproduce the result\n",
    "    sgd_clf.fit(X_train, y_train) # y_train, not y_train_2\n",
    "    joblib.dump(sgd_clf,'saved_var/sgd_clf_multi')\n",
    "else:\n",
    "    sgd_clf = joblib.load('saved_var/sgd_clf_multi')"
   ]
  },
  {
   "cell_type": "code",
   "execution_count": 8,
   "metadata": {},
   "outputs": [
    {
     "name": "stdout",
     "output_type": "stream",
     "text": [
      "[9]\n",
      "9\n",
      "[0 1 2 3 4 5 6 7 8 9]\n",
      "[[ -70375.38111943  -80421.17179755  -63193.89185674  -98200.2008379\n",
      "  -146364.53775501  -20055.27125229  -35792.47198095  -35893.26816411\n",
      "   -65500.26628055   12958.13892661]]\n"
     ]
    }
   ],
   "source": [
    "# Try prediction\n",
    "\n",
    "sample_id = 15\n",
    "print(sgd_clf.predict([X_train[sample_id]]))\n",
    "print(y_train[sample_id])\n",
    "# To see scores from classifers\n",
    "print(sgd_clf.classes_)\n",
    "sample_scores = sgd_clf.decision_function([X_train[sample_id]]) \n",
    "print(sample_scores)\n",
    "class_with_max_score = np.argmax(sample_scores)"
   ]
  },
  {
   "cell_type": "code",
   "execution_count": 9,
   "metadata": {},
   "outputs": [
    {
     "name": "stdout",
     "output_type": "stream",
     "text": [
      "82\n"
     ]
    }
   ],
   "source": [
    "count = 0\n",
    "for i in range(100):\n",
    "  sample_id = random.randint(1, 60000)\n",
    "  predict = sgd_clf.predict([X_train[sample_id]])\n",
    "  label = y_train[sample_id]\n",
    "  if predict == label:\n",
    "    count += 1\n",
    "print(count)\n"
   ]
  },
  {
   "cell_type": "code",
   "execution_count": null,
   "metadata": {},
   "outputs": [],
   "source": [
    "(78 + 81 + 82)/3"
   ]
  },
  {
   "cell_type": "code",
   "execution_count": 10,
   "metadata": {},
   "outputs": [
    {
     "name": "stdout",
     "output_type": "stream",
     "text": [
      "10\n",
      "[[ -20754.20426446  -30855.96858281  -22632.50511505  -13557.8951233\n",
      "     1245.89121588  -96818.27657805    2622.20021113 -126147.96892514\n",
      "   -21582.09196228  -77445.75528105]]\n"
     ]
    }
   ],
   "source": [
    "from sklearn.multiclass import OneVsRestClassifier\n",
    "# Warning: takes time for new run!\n",
    "new_run = False \n",
    "ova_clf = OneVsRestClassifier(SGDClassifier(random_state=42))\n",
    "if new_run == True:\n",
    "    ova_clf.fit(X_train, y_train)\n",
    "    joblib.dump(ova_clf,'saved_var/ova_clf')\n",
    "else:\n",
    "    ova_clf = joblib.load('saved_var/ova_clf')\n",
    "print(len(ova_clf.estimators_))\n",
    "sample_scores = ova_clf.decision_function([X_train[sample_id]]) \n",
    "print(sample_scores)"
   ]
  },
  {
   "cell_type": "code",
   "execution_count": null,
   "metadata": {},
   "outputs": [],
   "source": [
    "from sklearn.multiclass import OneVsOneClassifier\n",
    "# Warning: takes time for new run! \n",
    "new_run = False\n",
    "ovo_clf = OneVsOneClassifier(SGDClassifier(random_state=42))\n",
    "if new_run == True:\n",
    "    ovo_clf.fit(X_train, y_train)\n",
    "    joblib.dump(ovo_clf,'saved_var/ovo_clf')\n",
    "else:\n",
    "    ovo_clf = joblib.load('saved_var/ovo_clf')\n",
    "print(len(ovo_clf.estimators_))\n",
    "sample_scores = ovo_clf.decision_function([X_train[sample_id]]) \n",
    "print(sample_scores)"
   ]
  },
  {
   "cell_type": "code",
   "execution_count": null,
   "metadata": {},
   "outputs": [],
   "source": [
    "randomForest = False\n",
    "rfc = RandomForestClassifier(n_estimators=70, oob_score=True, random_state=101)\n",
    "if randomForest:\n",
    "  rfc.fit(X_train, y_train)\n",
    "  joblib.dump(rfc,'saved_var/rfc_binary')\n",
    "else:\n",
    "  rfc = joblib.load('saved_var/rfc_binary')"
   ]
  },
  {
   "cell_type": "code",
   "execution_count": null,
   "metadata": {},
   "outputs": [],
   "source": [
    "new_run = False\n",
    "if new_run == True:\n",
    "    sgd_acc = cross_val_score(sgd_clf, X_train, y_train, cv=3, scoring=\"accuracy\")\n",
    "    joblib.dump(sgd_acc,'saved_var/sgd_acc_multi')\n",
    "else:\n",
    "    sgd_acc = joblib.load('saved_var/sgd_acc_multi')\n",
    "print(sgd_acc)"
   ]
  },
  {
   "cell_type": "code",
   "execution_count": null,
   "metadata": {},
   "outputs": [],
   "source": [
    "if new_run == True:\n",
    "    forest_acc = cross_val_score(rfc, X_train, y_train, cv=3, scoring=\"accuracy\")\n",
    "    joblib.dump(forest_acc,'saved_var/forest_acc_multi')\n",
    "else:\n",
    "    forest_acc = joblib.load('saved_var/forest_acc_multi')\n",
    "print(forest_acc)\n"
   ]
  },
  {
   "cell_type": "code",
   "execution_count": null,
   "metadata": {},
   "outputs": [],
   "source": [
    "from sklearn.preprocessing import StandardScaler\n",
    "scaler = StandardScaler()\n",
    "X_train_scaled = scaler.fit_transform(X_train.astype(np.float64))"
   ]
  },
  {
   "cell_type": "code",
   "execution_count": null,
   "metadata": {},
   "outputs": [],
   "source": [
    "new_run = False\n",
    "# 7.1. SGDClassifier (benefited from feature scaling)\n",
    "# Warning: takes time for new run! \n",
    "if new_run == True:\n",
    "    sgd_acc_after_scaling = cross_val_score(sgd_clf, X_train_scaled, y_train, cv=3, scoring=\"accuracy\", n_jobs=4)\n",
    "    joblib.dump(sgd_acc_after_scaling,'saved_var/sgd_acc_after_scaling')\n",
    "else:\n",
    "    sgd_acc_after_scaling = joblib.load('saved_var/sgd_acc_after_scaling')\n",
    "print(sgd_acc_after_scaling)"
   ]
  },
  {
   "cell_type": "code",
   "execution_count": null,
   "metadata": {},
   "outputs": [],
   "source": [
    "if new_run == True:\n",
    "    forest_acc_after_scaling = cross_val_score(rfc, X_train_scaled, y_train, cv=3, scoring=\"accuracy\", n_jobs=4)\n",
    "    joblib.dump(forest_acc_after_scaling,'saved_var/forest_acc_after_scaling')\n",
    "else:\n",
    "    forest_acc_after_scaling = joblib.load('saved_var/forest_acc_after_scaling')\n",
    "print(forest_acc_after_scaling)"
   ]
  },
  {
   "cell_type": "code",
   "execution_count": null,
   "metadata": {},
   "outputs": [],
   "source": [
    "new_run = False\n",
    "if new_run == True:\n",
    "    y_train_pred = cross_val_predict(sgd_clf, X_train_scaled, y_train, cv=3)\n",
    "    joblib.dump(y_train_pred,'saved_var/y_train_pred_step8')\n",
    "else:\n",
    "    y_train_pred = joblib.load('saved_var/y_train_pred_step8')\n",
    "conf_mat = confusion_matrix(y_train, y_train_pred) # row: actual class, col: prediction\n",
    "let_plot = True;\n",
    "if let_plot:\n",
    "    plt.matshow(conf_mat, cmap=plt.cm.seismic)\n",
    "    plt.xlabel(\"Prediction\")\n",
    "    plt.ylabel(\"Actual class\")\n",
    "    plt.colorbar()\n",
    "    plt.savefig(\"figs/confusion_matrix_plot\")\n",
    "    plt.show()"
   ]
  },
  {
   "cell_type": "code",
   "execution_count": null,
   "metadata": {},
   "outputs": [],
   "source": [
    "conf_mat"
   ]
  },
  {
   "cell_type": "code",
   "execution_count": null,
   "metadata": {},
   "outputs": [],
   "source": [
    "row_sums = conf_mat.sum(axis=1, keepdims=True)\n",
    "norm_conf_mat = conf_mat / row_sums\n",
    "# Replace rates on diagonal (correct classifitions) by zeros    \n",
    "if let_plot:\n",
    "    np.fill_diagonal(norm_conf_mat, 0)\n",
    "    plt.matshow(norm_conf_mat,cmap=plt.cm.seismic)\n",
    "    plt.xlabel(\"Prediction\")\n",
    "    plt.ylabel(\"Actual class\")\n",
    "    plt.colorbar()\n",
    "    plt.savefig(\"figs/confusion_matrix_errors_plot\", tight_layout=False)\n",
    "    plt.show()"
   ]
  },
  {
   "cell_type": "code",
   "execution_count": null,
   "metadata": {},
   "outputs": [],
   "source": [
    "# 8.4. Plot examples of 3s and 5s\n",
    "def plot_digits(instances, images_per_row=10, **options):\n",
    "    size = 28\n",
    "    images_per_row = min(len(instances), images_per_row)\n",
    "    images = [instance.reshape(size,size) for instance in instances]\n",
    "    n_rows = (len(instances) - 1) // images_per_row + 1\n",
    "    row_images = []\n",
    "    n_empty = n_rows * images_per_row - len(instances)\n",
    "    images.append(np.zeros((size, size * n_empty)))\n",
    "    for row in range(n_rows):\n",
    "        rimages = images[row * images_per_row : (row + 1) * images_per_row]\n",
    "        row_images.append(np.concatenate(rimages, axis=1))\n",
    "    image = np.concatenate(row_images, axis=0)\n",
    "    plt.imshow(image, cmap = mpl.cm.binary, **options)\n",
    "    plt.axis(\"off\")\n",
    "\n",
    "class_A = 0\n",
    "class_B = 6\n",
    "X_class_AA = X_train[(y_train == class_A) & (y_train_pred == class_A)]\n",
    "X_class_AB = X_train[(y_train == class_A) & (y_train_pred == class_B)]\n",
    "X_class_BA = X_train[(y_train == class_B) & (y_train_pred == class_A)]\n",
    "X_class_BB = X_train[(y_train == class_B) & (y_train_pred == class_B)] \n",
    "let_plot = True    \n",
    "if let_plot:\n",
    "    plt.figure(figsize=(6,7))\n",
    "    plt.subplot(221); plot_digits(X_class_AA[0:25], images_per_row=5)\n",
    "    plt.title(\"Actual: \" + str(class_A) + \", Predicted: \" + str(class_A))\n",
    "    plt.subplot(222); plot_digits(X_class_AB[0:25], images_per_row=5)\n",
    "    plt.title(\"Actual: \" + str(class_A) + \", Predicted: \" + str(class_B))\n",
    "    plt.subplot(223); plot_digits(X_class_BA[0:25], images_per_row=5)\n",
    "    plt.title(\"Actual: \" + str(class_B) + \", Predicted: \" + str(class_A))\n",
    "    plt.subplot(224); plot_digits(X_class_BB[0:25], images_per_row=5)\n",
    "    plt.title(\"Actual: \" + str(class_B) + \", Predicted: \" + str(class_B))\n",
    "    plt.show()"
   ]
  },
  {
   "cell_type": "code",
   "execution_count": null,
   "metadata": {},
   "outputs": [],
   "source": [
    "y_train_large = (y_train >= 7)\n",
    "y_train_odd = (y_train % 2 == 1)\n",
    "y_multilabel = np.c_[y_train_large, y_train_odd]"
   ]
  },
  {
   "cell_type": "code",
   "execution_count": null,
   "metadata": {},
   "outputs": [],
   "source": [
    "from sklearn.neighbors import KNeighborsClassifier\n",
    "# Warning: takes time for new run!\n",
    "new_run = False \n",
    "knn_clf = KNeighborsClassifier()\n",
    "if new_run == True:\n",
    "    knn_clf.fit(X_train, y_multilabel)\n",
    "    joblib.dump(knn_clf,'saved_var/knn_clf')\n",
    "else:\n",
    "    knn_clf = joblib.load('saved_var/knn_clf')\n"
   ]
  },
  {
   "cell_type": "code",
   "execution_count": null,
   "metadata": {},
   "outputs": [],
   "source": [
    "# Try prediction\n",
    "sample_id = 14652;\n",
    "print(knn_clf.predict([X_train[sample_id]]))\n",
    "print(y_train[sample_id])\n",
    "print(y_multilabel[sample_id])"
   ]
  },
  {
   "cell_type": "code",
   "execution_count": null,
   "metadata": {},
   "outputs": [],
   "source": [
    "y_multilabel\n"
   ]
  },
  {
   "cell_type": "code",
   "execution_count": null,
   "metadata": {},
   "outputs": [],
   "source": [
    "new_run = False\n",
    "if new_run == True:\n",
    "    y_train_knn_pred = cross_val_predict(knn_clf, X_train, y_multilabel, cv=3)\n",
    "    joblib.dump(y_train_knn_pred,'saved_var/y_train_knn_pred')\n",
    "else:\n",
    "    y_train_knn_pred = joblib.load('saved_var/y_train_knn_pred')\n",
    "f1_score(y_multilabel, y_train_knn_pred, average=\"macro\") # macro: unweighted mean, weighted: average weighted by support (no. of true instances for each label)\n"
   ]
  },
  {
   "cell_type": "code",
   "execution_count": null,
   "metadata": {},
   "outputs": [],
   "source": [
    "import random \n",
    "def plot_digit(data, label = 'unspecified', showed=True):\n",
    "    image = data.reshape(28, 28)\n",
    "    plt.imshow(image, cmap = mpl.cm.binary)\n",
    "    plt.title(\"Digit: \" + str(label))\n",
    "    #plt.axis(\"off\")\n",
    "    if showed:\n",
    "        plt.show()\n",
    "noise = np.random.randint(0, 100, (len(X_train), 784))\n",
    "X_train_mod = X_train + noise\n",
    "noise = np.random.randint(0, 100, (len(X_test), 784))\n",
    "X_test_mod = X_test + noise\n",
    "# Labels now are clear images\n",
    "y_train_mod = X_train\n",
    "y_test_mod = X_test\n",
    "# Plot a sample and its label\n",
    "if let_plot:\n",
    "    sample_id = 234\n",
    "    plt.subplot(121); \n",
    "    plot_digit(X_train_mod[sample_id],str(y_train[sample_id])+\" (noisy FEATURE)\",showed=False)\n",
    "    plt.subplot(122); \n",
    "    plot_digit(y_train_mod[sample_id],str(y_train[sample_id])+\" (LABEL)\",showed=True)"
   ]
  },
  {
   "cell_type": "code",
   "execution_count": null,
   "metadata": {},
   "outputs": [],
   "source": [
    "new_run = False\n",
    "if new_run == True:\n",
    "    knn_clf.fit(X_train_mod, y_train_mod)\n",
    "    joblib.dump(knn_clf,'saved_var/knn_clf_multioutput')\n",
    "else:\n",
    "    knn_clf = joblib.load('saved_var/knn_clf_multioutput')"
   ]
  },
  {
   "cell_type": "code",
   "execution_count": null,
   "metadata": {},
   "outputs": [],
   "source": [
    "sample_id = 433\n",
    "clean_digit = knn_clf.predict([X_test_mod[sample_id]])    \n",
    "if let_plot:\n",
    "    plt.figure(figsize=[12,5])\n",
    "    plt.subplot(131); \n",
    "    plot_digit(X_test_mod[sample_id],str(y_test[sample_id])+\" (input SAMPLE)\",showed=False)\n",
    "    plt.subplot(132); \n",
    "    plot_digit(clean_digit,str(y_test[sample_id])+\" (PREDICTION)\",showed=False)\n",
    "    plt.subplot(133); \n",
    "    plot_digit(y_test_mod[sample_id],str(y_test[sample_id])+\" (LABEL)\",showed=True)"
   ]
  },
  {
   "cell_type": "code",
   "execution_count": 16,
   "metadata": {},
   "outputs": [
    {
     "name": "stdout",
     "output_type": "stream",
     "text": [
      "Fitting 5 folds for each of 12 candidates, totalling 60 fits\n"
     ]
    }
   ],
   "source": [
    "from sklearn.model_selection import GridSearchCV\n",
    "from sklearn.metrics import accuracy_score\n",
    "\n",
    "param_grid = {'n_neighbors': [3, 4, 5], 'weights': ['uniform', 'distance'], 'kernel':('linear', 'rbf')}\n",
    "knn_clf = KNeighborsClassifier()\n",
    "grid_search = GridSearchCV(knn_clf, param_grid, cv=5, verbose=3, n_jobs=-1)\n",
    "grid_search.fit(X_test, y_test)\n",
    "print(grid_search.best_params_)\n",
    "print(grid_search.best_score_)\n",
    "print(grid_search.cv_results_)\n",
    "\n",
    "y_pred = grid_search.predict(X_test)\n",
    "print(accuracy_score(y_test, y_pred))\n",
    "# End of our classification tour."
   ]
  },
  {
   "cell_type": "code",
   "execution_count": 4,
   "metadata": {},
   "outputs": [
    {
     "name": "stdout",
     "output_type": "stream",
     "text": [
      "0.8574166666666667\n",
      "{'n_neighbors': 4, 'weights': 'distance'}\n",
      "{'mean_fit_time': array([0.06529422, 0.09695692, 0.19783244, 0.19192791, 0.32598562,\n",
      "       0.13373547]), 'std_fit_time': array([0.01726182, 0.01224527, 0.08241056, 0.09146965, 0.28755978,\n",
      "       0.02543117]), 'mean_score_time': array([401.84266543, 336.40864396, 441.83504686, 445.68336058,\n",
      "       211.95361681, 171.31001258]), 'std_score_time': array([ 88.99680293, 139.37693782, 253.88203525, 203.91502469,\n",
      "        82.51562982,  53.58024219]), 'param_n_neighbors': masked_array(data=[3, 3, 4, 4, 5, 5],\n",
      "             mask=[False, False, False, False, False, False],\n",
      "       fill_value='?',\n",
      "            dtype=object), 'param_weights': masked_array(data=['uniform', 'distance', 'uniform', 'distance',\n",
      "                   'uniform', 'distance'],\n",
      "             mask=[False, False, False, False, False, False],\n",
      "       fill_value='?',\n",
      "            dtype=object), 'params': [{'n_neighbors': 3, 'weights': 'uniform'}, {'n_neighbors': 3, 'weights': 'distance'}, {'n_neighbors': 4, 'weights': 'uniform'}, {'n_neighbors': 4, 'weights': 'distance'}, {'n_neighbors': 5, 'weights': 'uniform'}, {'n_neighbors': 5, 'weights': 'distance'}], 'split0_test_score': array([0.85608333, 0.85816667, 0.85725   , 0.85975   , 0.85741667,\n",
      "       0.85875   ]), 'split1_test_score': array([0.84775   , 0.85075   , 0.84983333, 0.85316667, 0.84875   ,\n",
      "       0.84941667]), 'split2_test_score': array([0.85041667, 0.85216667, 0.85541667, 0.85775   , 0.85358333,\n",
      "       0.85525   ]), 'split3_test_score': array([0.85591667, 0.8575    , 0.8605    , 0.85966667, 0.85875   ,\n",
      "       0.859     ]), 'split4_test_score': array([0.85233333, 0.85375   , 0.85408333, 0.85675   , 0.8515    ,\n",
      "       0.85408333]), 'mean_test_score': array([0.8525    , 0.85446667, 0.85541667, 0.85741667, 0.854     ,\n",
      "       0.8553    ]), 'std_test_score': array([0.00320763, 0.00291576, 0.0035257 , 0.0024135 , 0.00369384,\n",
      "       0.00351252]), 'rank_test_score': array([6, 4, 2, 1, 5, 3])}\n"
     ]
    }
   ],
   "source": [
    "grid_search = joblib.load('saved_var/knn_grid_search_multioutput')\n",
    "print(grid_search.best_score_)\n",
    "print(grid_search.best_params_)\n",
    "print(grid_search.cv_results_)"
   ]
  }
 ],
 "metadata": {
  "interpreter": {
   "hash": "2be5faf79681da6f2a61fdfdd5405d65d042280f7fba6178067603e3a2925119"
  },
  "kernelspec": {
   "display_name": "Python 3.10.1 64-bit",
   "language": "python",
   "name": "python3"
  },
  "language_info": {
   "codemirror_mode": {
    "name": "ipython",
    "version": 3
   },
   "file_extension": ".py",
   "mimetype": "text/x-python",
   "name": "python",
   "nbconvert_exporter": "python",
   "pygments_lexer": "ipython3",
   "version": "3.10.1"
  },
  "orig_nbformat": 4
 },
 "nbformat": 4,
 "nbformat_minor": 2
}
